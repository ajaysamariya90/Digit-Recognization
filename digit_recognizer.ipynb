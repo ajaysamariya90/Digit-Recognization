{
 "cells": [
  {
   "cell_type": "code",
   "execution_count": null,
   "id": "e75f52c8-b9d1-481f-b0b5-38e15904054f",
   "metadata": {},
   "outputs": [],
   "source": [
    "!pip install tensorflow keras numpy matplotlib scikit-image scikit-learn"
   ]
  },
  {
   "cell_type": "code",
   "execution_count": null,
   "id": "3c85763c-64b3-473e-b72e-654517a9d5bc",
   "metadata": {},
   "outputs": [],
   "source": [
    "# fetching dataset\n",
    "from sklearn.datasets import fetch_openml\n",
    "import matplotlib\n",
    "import matplotlib.pyplot as plt\n",
    "import numpy as np\n",
    "from sklearn.linear_model import LogisticRegression\n",
    "from sklearn.model_selection import cross_val_score\n",
    "\n",
    "mnist = fetch_openml('mnist_784')\n"
   ]
  },
  {
   "cell_type": "code",
   "execution_count": 4,
   "id": "5c5ee374-70f1-4a51-8fca-669cd028817f",
   "metadata": {},
   "outputs": [
    {
     "data": {
      "image/png": "[encoded data removed]",
      "text/plain": [
       "<Figure size 640x480 with 1 Axes>"
      ]
     },
     "metadata": {},
     "output_type": "display_data"
    }
   ],
   "source": [
    "x, y = mnist['data'], mnist['target']\n",
    "\n",
    "some_digit = x.to_numpy()[36001]\n",
    "some_digit_image = some_digit.reshape(28, 28)  # let's reshape to plot it\n",
    "\n",
    "plt.imshow(some_digit_image, cmap=matplotlib.cm.binary,\n",
    "           interpolation='nearest')\n",
    "plt.axis(\"off\")\n",
    "plt.show()\n"
   ]
  },
  {
   "cell_type": "code",
   "execution_count": 9,
   "id": "994363ca-7362-437f-ad59-5d97f438a1e1",
   "metadata": {},
   "outputs": [],
   "source": [
    "import numpy as np\n",
    "\n",
    "# Ensure x and y are NumPy arrays if they are not already\n",
    "x = np.array(x)\n",
    "y = np.array(y)\n",
    "\n",
    "# Splitting the dataset into training and test sets\n",
    "x_train, x_test = x[:60000], x[60000:70000]\n",
    "y_train, y_test = y[:60000], y[60000:70000]\n",
    "\n",
    "# Shuffle the training set to avoid any ordering bias\n",
    "shuffle_index = np.random.permutation(60000)\n",
    "\n",
    "# Apply the shuffle to NumPy arrays\n",
    "x_train, y_train = x_train[shuffle_index], y_train[shuffle_index]\n",
    "\n",
    "# Creating a binary detector for the digit '2'\n",
    "y_train = y_train.astype(np.int8)\n",
    "y_test = y_test.astype(np.int8)\n",
    "\n",
    "# Create binary labels for detecting the digit '2'\n",
    "y_train_2 = (y_train == 2)  # No need for quotes since '2' is an integer\n",
    "y_test_2 = (y_test == 2)\n",
    "\n",
    "\n"
   ]
  },
  {
   "cell_type": "code",
   "execution_count": null,
   "id": "b56e4d85-987b-4318-b816-15fede0ab301",
   "metadata": {},
   "outputs": [],
   "source": [
    "# Train a logistic regression classifier\n",
    "clf = LogisticRegression(tol=0.1)\n",
    "clf.fit(x_train, y_train_2)\n",
    "example = clf.predict([some_digit])\n",
    "print(example)\n"
   ]
  },
  {
   "cell_type": "code",
   "execution_count": null,
   "id": "ba9b9b31-c446-4871-ace0-0a6e8ef13d9b",
   "metadata": {},
   "outputs": [],
   "source": [
    "# Cross Validation\n",
    "a = cross_val_score(clf, x_train, y_train_2, cv=3, scoring=\"accuracy\")\n",
    "print(a.mean())\n"
   ]
  },
  {
   "cell_type": "code",
   "execution_count": null,
   "id": "e1f8591d-4d1b-432e-b499-42e18a3f140a",
   "metadata": {},
   "outputs": [],
   "source": []
  }
 ],
 "metadata": {
  "kernelspec": {
   "display_name": "Python 3 (ipykernel)",
   "language": "python",
   "name": "python3"
  },
  "language_info": {
   "codemirror_mode": {
    "name": "ipython",
    "version": 3
   },
   "file_extension": ".py",
   "mimetype": "text/x-python",
   "name": "python",
   "nbconvert_exporter": "python",
   "pygments_lexer": "ipython3",
   "version": "3.11.7"
  }
 },
 "nbformat": 4,
 "nbformat_minor": 5
}
